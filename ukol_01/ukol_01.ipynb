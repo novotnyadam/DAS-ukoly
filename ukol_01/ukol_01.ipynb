{
 "cells": [
  {
   "cell_type": "markdown",
   "metadata": {},
   "source": [
    "# Ukol 01 - Build GLM model to predict attrition of employee (team work)\n",
    "* split data - test, train, validation\n",
    "* train GLM (logistic regression) model to predict attrition of given employe on training set\n",
    "* cross validate on test sample\n",
    "* find the 'best' model based on precision\n",
    "* compute precision on validate sample\n",
    "* paste your result into Slack - lecture_05\n",
    "* you can paste working results too to made other teams to work hard"
   ]
  },
  {
   "cell_type": "code",
   "execution_count": 1,
   "metadata": {},
   "outputs": [],
   "source": [
    "import numpy as np\n",
    "import pandas as pd  # library when dealing with tabular data\n",
    "import os  # standard set of OS-tools\n",
    "import sys\n",
    "\n",
    "import psycopg2        # for connection to PostgreSQL DB\n",
    "import psycopg2.extras # for Dictionary-like cursor\n",
    "\n",
    "from matplotlib import pyplot\n",
    "import matplotlib.pyplot as plt"
   ]
  },
  {
   "cell_type": "code",
   "execution_count": 2,
   "metadata": {},
   "outputs": [
    {
     "name": "stdout",
     "output_type": "stream",
     "text": [
      "C:\\Adam\\School_FJFI\\magisterske\\3\\DAS\\DAS-ukoly\\ukol_01\n"
     ]
    }
   ],
   "source": [
    "print(os.getcwd())"
   ]
  },
  {
   "cell_type": "markdown",
   "metadata": {},
   "source": [
    "## Connection to DB\n",
    "Our database is PostgreSQL on kmlinux.fjfi.cvut.cz.\n",
    "The IP addresses from which the database can be accessed are limited to the FJFI range. If you want to access the database from other IPs, you must create a tunnel. Use VPN https://nms.fjfi.cvut.cz/wiki/Openvpn.fjfi.cvut.cz"
   ]
  },
  {
   "cell_type": "code",
   "execution_count": 27,
   "metadata": {
    "scrolled": true
   },
   "outputs": [
    {
     "data": {
      "text/plain": [
       "<connection object at 0x000001D44C461BF8; dsn: 'user=francji1 password=xxx dbname=francji1_das host=kmlinux.fjfi.cvut.cz', closed: 0>"
      ]
     },
     "execution_count": 27,
     "metadata": {},
     "output_type": "execute_result"
    }
   ],
   "source": [
    "password = open('secret.txt').read().strip()\n",
    "params = {\n",
    "'host': 'kmlinux.fjfi.cvut.cz',\n",
    "'user': 'francji1',\n",
    "'password': password,\n",
    "'dbname': 'francji1_das'\n",
    "}\n",
    "conn = psycopg2.connect(**params)\n",
    "conn"
   ]
  },
  {
   "cell_type": "code",
   "execution_count": null,
   "metadata": {},
   "outputs": [],
   "source": [
    "empData = pd.read_sql_query(\"SELECT * FROM attrition\", conn)"
   ]
  },
  {
   "cell_type": "code",
   "execution_count": null,
   "metadata": {},
   "outputs": [],
   "source": []
  },
  {
   "cell_type": "code",
   "execution_count": 24,
   "metadata": {},
   "outputs": [],
   "source": [
    "empData.to_csv(\"empdata.csv\", encoding='utf-8', index=False)"
   ]
  },
  {
   "cell_type": "code",
   "execution_count": 25,
   "metadata": {},
   "outputs": [],
   "source": [
    "empData = pd.read_csv(\"empdata.csv\")"
   ]
  },
  {
   "cell_type": "code",
   "execution_count": 26,
   "metadata": {},
   "outputs": [
    {
     "data": {
      "text/html": [
       "<div>\n",
       "<style scoped>\n",
       "    .dataframe tbody tr th:only-of-type {\n",
       "        vertical-align: middle;\n",
       "    }\n",
       "\n",
       "    .dataframe tbody tr th {\n",
       "        vertical-align: top;\n",
       "    }\n",
       "\n",
       "    .dataframe thead th {\n",
       "        text-align: right;\n",
       "    }\n",
       "</style>\n",
       "<table border=\"1\" class=\"dataframe\">\n",
       "  <thead>\n",
       "    <tr style=\"text-align: right;\">\n",
       "      <th></th>\n",
       "      <th>Unnamed: 0</th>\n",
       "      <th>age</th>\n",
       "      <th>attrition</th>\n",
       "      <th>business_travel</th>\n",
       "      <th>daily_rate</th>\n",
       "      <th>department</th>\n",
       "      <th>distance_from_home</th>\n",
       "      <th>education</th>\n",
       "      <th>education_field</th>\n",
       "      <th>employee_count</th>\n",
       "      <th>...</th>\n",
       "      <th>relationship_satisfaction</th>\n",
       "      <th>standard_hours</th>\n",
       "      <th>stock_option_level</th>\n",
       "      <th>total_working_years</th>\n",
       "      <th>training_times_last_year</th>\n",
       "      <th>work_life_balance</th>\n",
       "      <th>years_at_company</th>\n",
       "      <th>years_in_current_role</th>\n",
       "      <th>years_since_last_promotion</th>\n",
       "      <th>years_with_curr_manager</th>\n",
       "    </tr>\n",
       "  </thead>\n",
       "  <tbody>\n",
       "    <tr>\n",
       "      <td>0</td>\n",
       "      <td>0</td>\n",
       "      <td>41</td>\n",
       "      <td>Yes</td>\n",
       "      <td>Travel_Rarely</td>\n",
       "      <td>1102</td>\n",
       "      <td>Sales</td>\n",
       "      <td>1</td>\n",
       "      <td>2</td>\n",
       "      <td>Life Sciences</td>\n",
       "      <td>1</td>\n",
       "      <td>...</td>\n",
       "      <td>1</td>\n",
       "      <td>80</td>\n",
       "      <td>0</td>\n",
       "      <td>8</td>\n",
       "      <td>0</td>\n",
       "      <td>1</td>\n",
       "      <td>6</td>\n",
       "      <td>4</td>\n",
       "      <td>0</td>\n",
       "      <td>5</td>\n",
       "    </tr>\n",
       "    <tr>\n",
       "      <td>1</td>\n",
       "      <td>1</td>\n",
       "      <td>49</td>\n",
       "      <td>No</td>\n",
       "      <td>Travel_Frequently</td>\n",
       "      <td>279</td>\n",
       "      <td>Research &amp; Development</td>\n",
       "      <td>8</td>\n",
       "      <td>1</td>\n",
       "      <td>Life Sciences</td>\n",
       "      <td>1</td>\n",
       "      <td>...</td>\n",
       "      <td>4</td>\n",
       "      <td>80</td>\n",
       "      <td>1</td>\n",
       "      <td>10</td>\n",
       "      <td>3</td>\n",
       "      <td>3</td>\n",
       "      <td>10</td>\n",
       "      <td>7</td>\n",
       "      <td>1</td>\n",
       "      <td>7</td>\n",
       "    </tr>\n",
       "    <tr>\n",
       "      <td>2</td>\n",
       "      <td>2</td>\n",
       "      <td>37</td>\n",
       "      <td>Yes</td>\n",
       "      <td>Travel_Rarely</td>\n",
       "      <td>1373</td>\n",
       "      <td>Research &amp; Development</td>\n",
       "      <td>2</td>\n",
       "      <td>2</td>\n",
       "      <td>Other</td>\n",
       "      <td>1</td>\n",
       "      <td>...</td>\n",
       "      <td>2</td>\n",
       "      <td>80</td>\n",
       "      <td>0</td>\n",
       "      <td>7</td>\n",
       "      <td>3</td>\n",
       "      <td>3</td>\n",
       "      <td>0</td>\n",
       "      <td>0</td>\n",
       "      <td>0</td>\n",
       "      <td>0</td>\n",
       "    </tr>\n",
       "    <tr>\n",
       "      <td>3</td>\n",
       "      <td>3</td>\n",
       "      <td>33</td>\n",
       "      <td>No</td>\n",
       "      <td>Travel_Frequently</td>\n",
       "      <td>1392</td>\n",
       "      <td>Research &amp; Development</td>\n",
       "      <td>3</td>\n",
       "      <td>4</td>\n",
       "      <td>Life Sciences</td>\n",
       "      <td>1</td>\n",
       "      <td>...</td>\n",
       "      <td>3</td>\n",
       "      <td>80</td>\n",
       "      <td>0</td>\n",
       "      <td>8</td>\n",
       "      <td>3</td>\n",
       "      <td>3</td>\n",
       "      <td>8</td>\n",
       "      <td>7</td>\n",
       "      <td>3</td>\n",
       "      <td>0</td>\n",
       "    </tr>\n",
       "    <tr>\n",
       "      <td>4</td>\n",
       "      <td>4</td>\n",
       "      <td>27</td>\n",
       "      <td>No</td>\n",
       "      <td>Travel_Rarely</td>\n",
       "      <td>591</td>\n",
       "      <td>Research &amp; Development</td>\n",
       "      <td>2</td>\n",
       "      <td>1</td>\n",
       "      <td>Medical</td>\n",
       "      <td>1</td>\n",
       "      <td>...</td>\n",
       "      <td>4</td>\n",
       "      <td>80</td>\n",
       "      <td>1</td>\n",
       "      <td>6</td>\n",
       "      <td>3</td>\n",
       "      <td>3</td>\n",
       "      <td>2</td>\n",
       "      <td>2</td>\n",
       "      <td>2</td>\n",
       "      <td>2</td>\n",
       "    </tr>\n",
       "  </tbody>\n",
       "</table>\n",
       "<p>5 rows × 36 columns</p>\n",
       "</div>"
      ],
      "text/plain": [
       "   Unnamed: 0  age attrition    business_travel  daily_rate  \\\n",
       "0           0   41       Yes      Travel_Rarely        1102   \n",
       "1           1   49        No  Travel_Frequently         279   \n",
       "2           2   37       Yes      Travel_Rarely        1373   \n",
       "3           3   33        No  Travel_Frequently        1392   \n",
       "4           4   27        No      Travel_Rarely         591   \n",
       "\n",
       "               department  distance_from_home  education education_field  \\\n",
       "0                   Sales                   1          2   Life Sciences   \n",
       "1  Research & Development                   8          1   Life Sciences   \n",
       "2  Research & Development                   2          2           Other   \n",
       "3  Research & Development                   3          4   Life Sciences   \n",
       "4  Research & Development                   2          1         Medical   \n",
       "\n",
       "   employee_count  ...  relationship_satisfaction  standard_hours  \\\n",
       "0               1  ...                          1              80   \n",
       "1               1  ...                          4              80   \n",
       "2               1  ...                          2              80   \n",
       "3               1  ...                          3              80   \n",
       "4               1  ...                          4              80   \n",
       "\n",
       "  stock_option_level  total_working_years  training_times_last_year  \\\n",
       "0                  0                    8                         0   \n",
       "1                  1                   10                         3   \n",
       "2                  0                    7                         3   \n",
       "3                  0                    8                         3   \n",
       "4                  1                    6                         3   \n",
       "\n",
       "   work_life_balance years_at_company  years_in_current_role  \\\n",
       "0                  1                6                      4   \n",
       "1                  3               10                      7   \n",
       "2                  3                0                      0   \n",
       "3                  3                8                      7   \n",
       "4                  3                2                      2   \n",
       "\n",
       "  years_since_last_promotion  years_with_curr_manager  \n",
       "0                          0                        5  \n",
       "1                          1                        7  \n",
       "2                          0                        0  \n",
       "3                          3                        0  \n",
       "4                          2                        2  \n",
       "\n",
       "[5 rows x 36 columns]"
      ]
     },
     "execution_count": 26,
     "metadata": {},
     "output_type": "execute_result"
    }
   ],
   "source": [
    "empData.head(5)"
   ]
  },
  {
   "cell_type": "code",
   "execution_count": 6,
   "metadata": {
    "scrolled": true
   },
   "outputs": [
    {
     "name": "stdout",
     "output_type": "stream",
     "text": [
      "(1470, 35)\n"
     ]
    }
   ],
   "source": [
    "print(empData.shape)"
   ]
  },
  {
   "cell_type": "code",
   "execution_count": 7,
   "metadata": {},
   "outputs": [
    {
     "name": "stdout",
     "output_type": "stream",
     "text": [
      "Index(['age', 'attrition', 'business_travel', 'daily_rate', 'department',\n",
      "       'distance_from_home', 'education', 'education_field', 'employee_count',\n",
      "       'employee_number', 'environment_satisfaction', 'gender', 'hourly_rate',\n",
      "       'job_involvement', 'job_level', 'job_role', 'job_satisfaction',\n",
      "       'marital_status', 'monthly_income', 'monthly_rate',\n",
      "       'num_companies_worked', 'over18', 'over_time', 'percent_salary_hike',\n",
      "       'performance_rating', 'relationship_satisfaction', 'standard_hours',\n",
      "       'stock_option_level', 'total_working_years', 'training_times_last_year',\n",
      "       'work_life_balance', 'years_at_company', 'years_in_current_role',\n",
      "       'years_since_last_promotion', 'years_with_curr_manager'],\n",
      "      dtype='object')\n"
     ]
    }
   ],
   "source": [
    "print(empData.columns)"
   ]
  },
  {
   "cell_type": "code",
   "execution_count": 8,
   "metadata": {},
   "outputs": [],
   "source": [
    "empData['attrition'] = empData['attrition'].map({'Yes': 1, 'No': 0})"
   ]
  },
  {
   "cell_type": "code",
   "execution_count": 9,
   "metadata": {},
   "outputs": [],
   "source": [
    "from sklearn.model_selection import train_test_split\n",
    "shuffled = empData.sample(frac=1, random_state=42)\n",
    "data_train, data_test = train_test_split(shuffled, test_size=0.2, random_state=42)"
   ]
  },
  {
   "cell_type": "code",
   "execution_count": 10,
   "metadata": {},
   "outputs": [],
   "source": [
    "X_train = data_train.loc[:, empData.columns != 'attrition']\n",
    "y_train = data_train['attrition']\n",
    "X_test = data_test.loc[:, empData.columns != 'attrition']\n",
    "y_test = data_test['attrition']"
   ]
  },
  {
   "cell_type": "code",
   "execution_count": 11,
   "metadata": {},
   "outputs": [],
   "source": [
    "features = ['age','years_at_company','education'] #init, should be definitely changed"
   ]
  },
  {
   "cell_type": "markdown",
   "metadata": {},
   "source": [
    "## Logistic regression"
   ]
  },
  {
   "cell_type": "code",
   "execution_count": 12,
   "metadata": {},
   "outputs": [],
   "source": [
    "from sklearn.linear_model import LogisticRegression\n",
    "from sklearn.model_selection import cross_val_score\n",
    "from sklearn.metrics import accuracy_score"
   ]
  },
  {
   "cell_type": "code",
   "execution_count": 13,
   "metadata": {},
   "outputs": [
    {
     "name": "stderr",
     "output_type": "stream",
     "text": [
      "c:\\users\\admin\\.conda\\envs\\test_venv\\lib\\site-packages\\sklearn\\linear_model\\logistic.py:432: FutureWarning: Default solver will be changed to 'lbfgs' in 0.22. Specify a solver to silence this warning.\n",
      "  FutureWarning)\n"
     ]
    },
    {
     "data": {
      "text/plain": [
       "LogisticRegression(C=1.0, class_weight=None, dual=False, fit_intercept=True,\n",
       "                   intercept_scaling=1, l1_ratio=None, max_iter=100,\n",
       "                   multi_class='warn', n_jobs=None, penalty='l2',\n",
       "                   random_state=None, solver='warn', tol=0.0001, verbose=0,\n",
       "                   warm_start=False)"
      ]
     },
     "execution_count": 13,
     "metadata": {},
     "output_type": "execute_result"
    }
   ],
   "source": [
    "lgr = LogisticRegression()\n",
    "lgr.fit(X_train[features], y_train)"
   ]
  },
  {
   "cell_type": "code",
   "execution_count": 14,
   "metadata": {},
   "outputs": [
    {
     "name": "stdout",
     "output_type": "stream",
     "text": [
      "Accuracy is: 0.8333333333333334\n"
     ]
    }
   ],
   "source": [
    "y_test_pred = pd.Series(lgr.predict(X_test[features]), name = 'prediction')\n",
    "acc_test = accuracy_score(y_test_pred, y_test)\n",
    "print(\"Accuracy is:\", acc_test)"
   ]
  },
  {
   "cell_type": "code",
   "execution_count": 15,
   "metadata": {},
   "outputs": [],
   "source": [
    "#kfold = cross_val_score(lgr, X_train[features], y_train, cv=2)\n",
    "#print('5-fold cross-validation results:' , kfold)"
   ]
  }
 ],
 "metadata": {
  "kernelspec": {
   "display_name": "Python 3",
   "language": "python",
   "name": "python3"
  },
  "language_info": {
   "codemirror_mode": {
    "name": "ipython",
    "version": 3
   },
   "file_extension": ".py",
   "mimetype": "text/x-python",
   "name": "python",
   "nbconvert_exporter": "python",
   "pygments_lexer": "ipython3",
   "version": "3.7.4"
  }
 },
 "nbformat": 4,
 "nbformat_minor": 4
}
