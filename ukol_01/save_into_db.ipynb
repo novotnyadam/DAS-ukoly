{
 "cells": [
  {
   "cell_type": "code",
   "execution_count": 1,
   "metadata": {},
   "outputs": [],
   "source": [
    "import numpy as np\n",
    "import pandas as pd  # library when dealing with tabular data\n",
    "import os  # standard set of OS-tools\n",
    "import sys\n",
    "\n",
    "import psycopg2        # for connection to PostgreSQL DB\n",
    "import psycopg2.extras # for Dictionary-like cursor\n",
    "\n",
    "from matplotlib import pyplot\n",
    "import matplotlib.pyplot as plt"
   ]
  },
  {
   "cell_type": "code",
   "execution_count": 6,
   "metadata": {},
   "outputs": [],
   "source": [
    "final_db = pd.read_csv(\"final_results.csv\")"
   ]
  },
  {
   "cell_type": "code",
   "execution_count": 3,
   "metadata": {},
   "outputs": [],
   "source": [
    "password = open('secret.txt').read().strip()\n",
    "from sqlalchemy import create_engine\n",
    "engine = create_engine('postgres://francji1:' + password + '@kmlinux.fjfi.cvut.cz:5432/francji1_das')"
   ]
  },
  {
   "cell_type": "code",
   "execution_count": 4,
   "metadata": {},
   "outputs": [],
   "source": [
    "final_db.to_sql('orange_ukol01', con=engine)"
   ]
  }
 ],
 "metadata": {
  "kernelspec": {
   "display_name": "Python 3",
   "language": "python",
   "name": "python3"
  },
  "language_info": {
   "codemirror_mode": {
    "name": "ipython",
    "version": 3
   },
   "file_extension": ".py",
   "mimetype": "text/x-python",
   "name": "python",
   "nbconvert_exporter": "python",
   "pygments_lexer": "ipython3",
   "version": "3.7.4"
  }
 },
 "nbformat": 4,
 "nbformat_minor": 2
}
